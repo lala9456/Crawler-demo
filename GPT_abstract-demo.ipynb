{
 "cells": [
  {
   "cell_type": "code",
   "execution_count": 1,
   "metadata": {},
   "outputs": [
    {
     "data": {
      "text/plain": [
       "True"
      ]
     },
     "execution_count": 1,
     "metadata": {},
     "output_type": "execute_result"
    }
   ],
   "source": [
    "import os\n",
    "import logging\n",
    "from openai import AzureOpenAI\n",
    "from dotenv import load_dotenv\n",
    "load_dotenv()"
   ]
  },
  {
   "cell_type": "code",
   "execution_count": 14,
   "metadata": {},
   "outputs": [],
   "source": [
    "def GPT_API_text(prompt: str, user_input: str):\n",
    "  # 初始化 Azure OpenAI 客戶端\n",
    "    try:\n",
    "        client = AzureOpenAI(\n",
    "            api_key=os.getenv(\"4OAPIKey\"),\n",
    "            api_version=\"2024-08-01-preview\",\n",
    "            azure_endpoint=os.getenv(\"4OEndpoint\")\n",
    "        )\n",
    "        # logging.info(\"Azure OpenAI 客戶端初始化成功\")\n",
    "    except Exception as e:\n",
    "        logging.error(f\"初始化 Azure OpenAI 客戶端失敗: {e}\")\n",
    "        return\n",
    "    try:\n",
    "        # logging.info(\"開始發送 GPT API 請求\")\n",
    "        completion = client.chat.completions.create(\n",
    "            temperature=0,\n",
    "            model=\"gpt-4o-0806\",\n",
    "            messages=[\n",
    "                {\n",
    "                    \"role\": \"system\",\n",
    "                    \"content\": prompt\n",
    "                },\n",
    "                {\n",
    "                    \"role\": \"user\",\n",
    "                    \"content\": [\n",
    "                        {\"type\": \"text\", \"text\": user_input},\n",
    "                    ],\n",
    "                }\n",
    "            ]\n",
    "        )\n",
    "        response_content = completion.choices[0].message.content\n",
    "        prompt_tokens = completion.usage.prompt_tokens  # 提示 (prompt) token 數\n",
    "        completion_tokens = completion.usage.completion_tokens  # 回應 (completion) token 數\n",
    "\n",
    "        # logging.info(f\"API 回應成功，Input token數量: {prompt_tokens}, Output token數量: {completion_tokens})\")\n",
    "        # 計算成本（按 1M tokens 計價）\n",
    "        prompt_cost = (prompt_tokens / 1_000_000) * 2.5  # 2.5 美金 / 1M tokens\n",
    "        completion_cost = (completion_tokens / 1_000_000) * 10  # 10 美金 / 1M tokens\n",
    "        total_cost = prompt_cost + completion_cost\n",
    "        # 顯示 token 消耗資訊\n",
    "        print(f\"Input Token: {prompt_tokens}\")\n",
    "        print(f\"Output Token: {completion_tokens}\")\n",
    "        print(f\"總共花費:{total_cost}美金\")\n",
    "        print(f\"總共花費:{total_cost*32.85}台幣\")\n",
    "        # print(response_content)\n",
    "        return response_content\n",
    "    except Exception as e:\n",
    "        logging.error(f\"API 請求失敗: {e}\")\n",
    "        return"
   ]
  },
  {
   "cell_type": "code",
   "execution_count": 22,
   "metadata": {},
   "outputs": [],
   "source": [
    "prompt = \"\"\" \n",
    "請幫我分析user輸入的評論在 Google 評論上的內容，並針對以下重點提供摘要：\n",
    "1. **餐點口味**（總體評價、特色、常見評論）(10個字以內) \n",
    "2. **價位**（是否合理、性價比、與類似餐廳比較）\n",
    "3. **推薦關鍵字**（常見的好評/負評關鍵詞）(10個字以內)  \n",
    "4. **推薦的菜色**（評論中最常被提及的推薦菜品）(10個字以內)   \n",
    "請依照以下範例格式輸出\n",
    "   - 餐廳名稱：  \n",
    "   - 總體評價（1~5分）：  \n",
    "   - 餐點口味： \n",
    "   - 價位：  \n",
    "   - 推薦關鍵字： \n",
    "   - 推薦的菜色：\n",
    "\"\"\"\n",
    "\n",
    "user_input =\"\"\"\n",
    "11PASTA食義_南京店\n",
    "覺得套餐的麵包非常好吃！\n",
    "烤的酥酥脆脆的，一人一個有種意猶未盡的感覺。\n",
    "義大利麵有多加一份蔬菜+30元\n",
    "多了很多菇類，吃起來滿足\n",
    "\n",
    "披薩點了燻鮭，覺得有點太鹹，但很喜歡披薩的「邊邊」酥香好吃，有舒服的麥味👍\n",
    "\n",
    "套餐的沙拉算豐盛\n",
    "美式比單點的美式稍小杯\n",
    "甜點提拉米蘇還ok\n",
    "\n",
    "1300來用餐依然客滿，建議先訂位\n",
    "整體來說是會再回訪的餐廳。 \n",
    "\"\"\""
   ]
  },
  {
   "cell_type": "code",
   "execution_count": 23,
   "metadata": {},
   "outputs": [
    {
     "name": "stdout",
     "output_type": "stream",
     "text": [
      "Input Token: 405\n",
      "Output Token: 106\n",
      "總共花費:0.0020724999999999997美金\n",
      "總共花費:0.06808162499999999台幣\n"
     ]
    }
   ],
   "source": [
    "res = GPT_API_text(prompt=prompt,user_input=user_input)"
   ]
  },
  {
   "cell_type": "code",
   "execution_count": 24,
   "metadata": {},
   "outputs": [
    {
     "name": "stdout",
     "output_type": "stream",
     "text": [
      "- 餐廳名稱：11PASTA食義_南京店  \n",
      "- 總體評價（1~5分）：4分  \n",
      "- 餐點口味：麵包酥脆，披薩偏鹹  \n",
      "- 價位：合理，性價比高  \n",
      "- 推薦關鍵字：酥脆、滿足、客滿  \n",
      "- 推薦的菜色：套餐麵包、燻鮭披薩\n"
     ]
    }
   ],
   "source": [
    "print(res)"
   ]
  },
  {
   "cell_type": "code",
   "execution_count": 25,
   "metadata": {},
   "outputs": [],
   "source": [
    "with open(\"google_Comment.md\",\"w\") as f:\n",
    "    f.write(res)"
   ]
  },
  {
   "cell_type": "code",
   "execution_count": null,
   "metadata": {},
   "outputs": [],
   "source": []
  }
 ],
 "metadata": {
  "kernelspec": {
   "display_name": "Crawler-demo",
   "language": "python",
   "name": "python3"
  },
  "language_info": {
   "codemirror_mode": {
    "name": "ipython",
    "version": 3
   },
   "file_extension": ".py",
   "mimetype": "text/x-python",
   "name": "python",
   "nbconvert_exporter": "python",
   "pygments_lexer": "ipython3",
   "version": "3.12.0"
  }
 },
 "nbformat": 4,
 "nbformat_minor": 2
}
